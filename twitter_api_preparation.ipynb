{
 "cells": [
  {
   "cell_type": "code",
   "execution_count": 5,
   "metadata": {},
   "outputs": [],
   "source": [
    "import tweepy\n",
    "import json\n",
    "from abc import abstractmethod, ABCMeta"
   ]
  },
  {
   "cell_type": "code",
   "execution_count": 6,
   "metadata": {},
   "outputs": [],
   "source": [
    "class DataAPIInterface(metaclass=ABCMeta):\n",
    "    \"\"\" Interface class to all data source api \"\"\"\n",
    "    @abstractmethod\n",
    "    def get_current_usage(self):\n",
    "        pass\n",
    "    "
   ]
  },
  {
   "cell_type": "code",
   "execution_count": 7,
   "metadata": {},
   "outputs": [],
   "source": [
    "class TwitterAPI(tweepy.API, DataAPIInterface):\n",
    "    \"\"\" This class is to get a signed in API\n",
    "        Also it has some extra functionalities required to know the state of the API\n",
    "    \"\"\"\n",
    "    def __init__(self, token, wait_on_rate_limit=False, \n",
    "                 timeout=10, retry_count=3):\n",
    "        \"\"\" create a signed in twitter API\n",
    "            Inputs:\n",
    "            token: a dictionary of four keys consumer_key, consumer_secret, access_token, \n",
    "                   and access_token_secret\n",
    "        \"\"\"\n",
    "        \n",
    "        self.token = token\n",
    "        \n",
    "        auth = tweepy.OAuthHandler(self.token['consumer_key'],\n",
    "                                   self.token['consumer_secret'])\n",
    "        auth.set_access_token(self.token['access_token'],\n",
    "                              self.token['access_token_secret'])\n",
    "        super().__init__(auth, wait_on_rate_limit=wait_on_rate_limit,\n",
    "                             timeout=timeout, retry_count=retry_count)\n",
    "    \n",
    "    def get_current_usage(self):\n",
    "        \"\"\" Get the limit of and how much is used from each required API endpoint\n",
    "            You can append to this dictionary what is important for you\n",
    "        \"\"\"\n",
    "        rate_limit = self.rate_limit_status()\n",
    "\n",
    "        return \\\n",
    "            {\n",
    "                'rate_limit_status': rate_limit['resources']['application']['/application/rate_limit_status'],\n",
    "                'show_friendship': rate_limit['resources']['friendships']['/friendships/show'],\n",
    "                'get_user': rate_limit['resources']['users']['/users/show/:id'],\n",
    "                'get_followers_list': rate_limit['resources']['followers']['/followers/list'],\n",
    "                'get_followers_ids': rate_limit['resources']['followers']['/followers/ids'],\n",
    "                'get_friends_list': rate_limit['resources']['friends']['/friends/list'],\n",
    "                'get_friends_ids': rate_limit['resources']['friends']['/friends/ids'],\n",
    "                'search_api': rate_limit['resources']['search'],\n",
    "                'user_timeline': rate_limit['resources']['statuses']['/statuses/user_timeline'],\n",
    "                'user_favourited_statuses': rate_limit['resources']['favorites']['/favorites/list'],\n",
    "                'trends_available': rate_limit['resources']['trends']['/trends/available'],\n",
    "                'trends_place': rate_limit['resources']['trends']['/trends/place']\n",
    "            \n",
    "            }\n",
    "    \n",
    "    @staticmethod\n",
    "    def is_rate_limit_error(e):\n",
    "        return '429' in e.reason or '88' in e.reason\n",
    "    \n",
    "    @staticmethod\n",
    "    def resource_was_not_found(e):\n",
    "        return '34' in e.reason"
   ]
  },
  {
   "cell_type": "code",
   "execution_count": 8,
   "metadata": {},
   "outputs": [],
   "source": [
    "class TwitterAPIsList:\n",
    "    \"\"\" This class manages the available twitter apis \n",
    "        It is a singleton class where the signing in happens only one time\n",
    "    \"\"\"\n",
    "    _shared_state = {}   # This is required to make the class a singleton class\n",
    "\n",
    "    def __new__(cls, *args, **kwargs):\n",
    "        \"\"\" This is required to make the class a singleton class \"\"\"\n",
    "        obj = super().__new__(cls, *args, **kwargs)\n",
    "        obj.__dict__ = cls._shared_state\n",
    "        return obj\n",
    "    \n",
    "    def __init__(self, tokens_file_path='twitter_tokens.json'):\n",
    "        \"\"\" Create a list of all available twitter apis  \"\"\"\n",
    "        \n",
    "        if len(TwitterAPIsList._shared_state):\n",
    "            # No need to sign in again\n",
    "            print('No need to sign in again')\n",
    "            return\n",
    "        \n",
    "        # List of the available apis\n",
    "        self.apis = []\n",
    "        \n",
    "        with open(tokens_file_path, 'r') as f:\n",
    "            twitter_tokens = json.load(f)['twitter_tokens']\n",
    "            \n",
    "            for token in twitter_tokens:\n",
    "                self.apis.append(TwitterAPI(token))\n",
    "        \n",
    "        self.number_of_apis = len(self.apis)\n",
    "    \n",
    "    def __getitem__(self, key):\n",
    "        \"\"\" Get one of the available twitter API accounts \"\"\"\n",
    "        if key < 0 or key > self.number_of_apis-1:\n",
    "            raise IndexError(f'The index should be in the range 0 to {self.number_of_apis-1}')\n",
    "        return self.apis[key]"
   ]
  },
  {
   "cell_type": "code",
   "execution_count": 9,
   "metadata": {},
   "outputs": [
    {
     "data": {
      "text/plain": [
       "{'rate_limit_status': {'limit': 180, 'remaining': 179, 'reset': 1579916379},\n",
       " 'show_friendship': {'limit': 180, 'remaining': 180, 'reset': 1579916379},\n",
       " 'get_user': {'limit': 900, 'remaining': 900, 'reset': 1579916379},\n",
       " 'get_followers_list': {'limit': 15, 'remaining': 15, 'reset': 1579916379},\n",
       " 'get_followers_ids': {'limit': 15, 'remaining': 15, 'reset': 1579916379},\n",
       " 'get_friends_list': {'limit': 15, 'remaining': 15, 'reset': 1579916379},\n",
       " 'get_friends_ids': {'limit': 15, 'remaining': 15, 'reset': 1579916379},\n",
       " 'search_api': {'/search/tweets': {'limit': 180,\n",
       "   'remaining': 180,\n",
       "   'reset': 1579916379}},\n",
       " 'user_timeline': {'limit': 900, 'remaining': 900, 'reset': 1579916379},\n",
       " 'user_favourited_statuses': {'limit': 75,\n",
       "  'remaining': 75,\n",
       "  'reset': 1579916379},\n",
       " 'trends_available': {'limit': 75, 'remaining': 75, 'reset': 1579916379},\n",
       " 'trends_place': {'limit': 75, 'remaining': 75, 'reset': 1579916379}}"
      ]
     },
     "execution_count": 9,
     "metadata": {},
     "output_type": "execute_result"
    }
   ],
   "source": [
    "# The limits and how much is used from the first API account\n",
    "TwitterAPIsList()[0].get_current_usage()"
   ]
  },
  {
   "cell_type": "code",
   "execution_count": null,
   "metadata": {},
   "outputs": [],
   "source": []
  }
 ],
 "metadata": {
  "kernelspec": {
   "display_name": "Python 3",
   "language": "python",
   "name": "python3"
  },
  "language_info": {
   "codemirror_mode": {
    "name": "ipython",
    "version": 3
   },
   "file_extension": ".py",
   "mimetype": "text/x-python",
   "name": "python",
   "nbconvert_exporter": "python",
   "pygments_lexer": "ipython3",
   "version": "3.6.8"
  }
 },
 "nbformat": 4,
 "nbformat_minor": 2
}
